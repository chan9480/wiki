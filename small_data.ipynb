{
 "cells": [
  {
   "cell_type": "markdown",
   "id": "d1876c01",
   "metadata": {},
   "source": [
    "# 각 13GB이상 tsv파일 -> feature, en만 추출\n",
    "> 처음엔 필요없는 feature가 많고, 영어가 아닌 데이터도 많아서 필요한것만 추출"
   ]
  },
  {
   "cell_type": "code",
   "execution_count": 51,
   "id": "746dd498",
   "metadata": {},
   "outputs": [
    {
     "name": "stdout",
     "output_type": "stream",
     "text": [
      "  language                                          image_url  \\\n",
      "0       en  https://upload.wikimedia.org/wikipedia/commons...   \n",
      "1       it  https://upload.wikimedia.org/wikipedia/commons...   \n",
      "2       uk  https://upload.wikimedia.org/wikipedia/commons...   \n",
      "3       pt  https://upload.wikimedia.org/wikipedia/commons...   \n",
      "4       ca  https://upload.wikimedia.org/wikipedia/commons...   \n",
      "\n",
      "             caption_title_and_reference_description  \n",
      "0  David \"Fathead\" Newman [SEP] David \"Fathead\" N...  \n",
      "1  Castello degli Ezzelini (Bassano del Grappa) [...  \n",
      "2  Драфт НБА 2015 [SEP] Філадельфія Севенті-Сіксе...  \n",
      "3                          Palácio de Topkapı [SEP]   \n",
      "4                            Cervesa Tsingtao [SEP]   \n"
     ]
    }
   ],
   "source": [
    "import pandas\n",
    "\n",
    "df = pandas.read_csv('train-00004-of-00005.tsv', delimiter='\\t',\n",
    "                     usecols=['language','image_url', 'caption_title_and_reference_description'])\n",
    "\n",
    "print(df.head())"
   ]
  },
  {
   "cell_type": "code",
   "execution_count": 52,
   "id": "c52fc1ae",
   "metadata": {},
   "outputs": [],
   "source": [
    "df = df[df['language']=='en']"
   ]
  },
  {
   "cell_type": "code",
   "execution_count": 53,
   "id": "e20c9990",
   "metadata": {},
   "outputs": [
    {
     "data": {
      "text/html": [
       "<div>\n",
       "<style scoped>\n",
       "    .dataframe tbody tr th:only-of-type {\n",
       "        vertical-align: middle;\n",
       "    }\n",
       "\n",
       "    .dataframe tbody tr th {\n",
       "        vertical-align: top;\n",
       "    }\n",
       "\n",
       "    .dataframe thead th {\n",
       "        text-align: right;\n",
       "    }\n",
       "</style>\n",
       "<table border=\"1\" class=\"dataframe\">\n",
       "  <thead>\n",
       "    <tr style=\"text-align: right;\">\n",
       "      <th></th>\n",
       "      <th>language</th>\n",
       "      <th>image_url</th>\n",
       "      <th>caption_title_and_reference_description</th>\n",
       "    </tr>\n",
       "  </thead>\n",
       "  <tbody>\n",
       "    <tr>\n",
       "      <th>0</th>\n",
       "      <td>en</td>\n",
       "      <td>https://upload.wikimedia.org/wikipedia/commons...</td>\n",
       "      <td>David \"Fathead\" Newman [SEP] David \"Fathead\" N...</td>\n",
       "    </tr>\n",
       "    <tr>\n",
       "      <th>13</th>\n",
       "      <td>en</td>\n",
       "      <td>https://upload.wikimedia.org/wikipedia/commons...</td>\n",
       "      <td>Vigneux-de-Bretagne [SEP] The park of the chât...</td>\n",
       "    </tr>\n",
       "    <tr>\n",
       "      <th>14</th>\n",
       "      <td>en</td>\n",
       "      <td>https://upload.wikimedia.org/wikipedia/commons...</td>\n",
       "      <td>List of New Jersey Devils award winners [SEP] ...</td>\n",
       "    </tr>\n",
       "    <tr>\n",
       "      <th>18</th>\n",
       "      <td>en</td>\n",
       "      <td>https://upload.wikimedia.org/wikipedia/commons...</td>\n",
       "      <td>AKM [SEP] A 6H4-type bayonet and scabbard.</td>\n",
       "    </tr>\n",
       "    <tr>\n",
       "      <th>20</th>\n",
       "      <td>en</td>\n",
       "      <td>http://upload.wikimedia.org/wikipedia/commons/...</td>\n",
       "      <td>Hollingbourne [SEP]</td>\n",
       "    </tr>\n",
       "  </tbody>\n",
       "</table>\n",
       "</div>"
      ],
      "text/plain": [
       "   language                                          image_url  \\\n",
       "0        en  https://upload.wikimedia.org/wikipedia/commons...   \n",
       "13       en  https://upload.wikimedia.org/wikipedia/commons...   \n",
       "14       en  https://upload.wikimedia.org/wikipedia/commons...   \n",
       "18       en  https://upload.wikimedia.org/wikipedia/commons...   \n",
       "20       en  http://upload.wikimedia.org/wikipedia/commons/...   \n",
       "\n",
       "              caption_title_and_reference_description  \n",
       "0   David \"Fathead\" Newman [SEP] David \"Fathead\" N...  \n",
       "13  Vigneux-de-Bretagne [SEP] The park of the chât...  \n",
       "14  List of New Jersey Devils award winners [SEP] ...  \n",
       "18         AKM [SEP] A 6H4-type bayonet and scabbard.  \n",
       "20                               Hollingbourne [SEP]   "
      ]
     },
     "execution_count": 53,
     "metadata": {},
     "output_type": "execute_result"
    }
   ],
   "source": [
    "df.head()"
   ]
  },
  {
   "cell_type": "code",
   "execution_count": 54,
   "id": "26a98c05",
   "metadata": {},
   "outputs": [],
   "source": [
    "df.to_csv('train_5.tsv', index=False, header=True, sep=\"\\t\")"
   ]
  },
  {
   "cell_type": "code",
   "execution_count": 55,
   "id": "62028b7a",
   "metadata": {},
   "outputs": [],
   "source": [
    "df_2 = pandas.read_csv('train_5.tsv', delimiter='\\t')"
   ]
  },
  {
   "cell_type": "code",
   "execution_count": 56,
   "id": "efd88f67",
   "metadata": {},
   "outputs": [
    {
     "data": {
      "text/plain": [
       "'David \"Fathead\" Newman [SEP] David \"Fathead\" Newman at the Cellar Jazz Club in Vancouver'"
      ]
     },
     "execution_count": 56,
     "metadata": {},
     "output_type": "execute_result"
    }
   ],
   "source": [
    "df_2['caption_title_and_reference_description'][0]"
   ]
  },
  {
   "cell_type": "markdown",
   "id": "210f206a",
   "metadata": {},
   "source": [
    "# github에 업로드 위해 language feature도 없애고 100MB 미만으로 만들기"
   ]
  },
  {
   "cell_type": "code",
   "execution_count": 48,
   "id": "2dfd61f8",
   "metadata": {},
   "outputs": [],
   "source": [
    "import pandas\n",
    "df_2 = pandas.read_csv('train/train_5.tsv', delimiter='\\t',\n",
    "                      usecols=['image_url', 'caption_title_and_reference_description'])"
   ]
  },
  {
   "cell_type": "code",
   "execution_count": 49,
   "id": "fa105360",
   "metadata": {},
   "outputs": [
    {
     "data": {
      "text/plain": [
       "(1083833, 2)"
      ]
     },
     "execution_count": 49,
     "metadata": {},
     "output_type": "execute_result"
    }
   ],
   "source": [
    "df_2.shape"
   ]
  },
  {
   "cell_type": "code",
   "execution_count": 50,
   "id": "604087a8",
   "metadata": {},
   "outputs": [],
   "source": [
    "df_2[:500000].to_csv('train_9.tsv', index=False, header=True, sep=\"\\t\")\n",
    "df_2[500000:].to_csv('train_10.tsv', index=False, header=True, sep=\"\\t\")"
   ]
  },
  {
   "cell_type": "markdown",
   "id": "7b429684",
   "metadata": {},
   "source": [
    "# 마지막 확인"
   ]
  },
  {
   "cell_type": "code",
   "execution_count": 57,
   "id": "c602b058",
   "metadata": {},
   "outputs": [],
   "source": [
    "df_2 = pandas.read_csv('train/train_4.tsv', delimiter='\\t')"
   ]
  },
  {
   "cell_type": "code",
   "execution_count": 58,
   "id": "7d0ef2cf",
   "metadata": {},
   "outputs": [
    {
     "data": {
      "text/html": [
       "<div>\n",
       "<style scoped>\n",
       "    .dataframe tbody tr th:only-of-type {\n",
       "        vertical-align: middle;\n",
       "    }\n",
       "\n",
       "    .dataframe tbody tr th {\n",
       "        vertical-align: top;\n",
       "    }\n",
       "\n",
       "    .dataframe thead th {\n",
       "        text-align: right;\n",
       "    }\n",
       "</style>\n",
       "<table border=\"1\" class=\"dataframe\">\n",
       "  <thead>\n",
       "    <tr style=\"text-align: right;\">\n",
       "      <th></th>\n",
       "      <th>image_url</th>\n",
       "      <th>caption_title_and_reference_description</th>\n",
       "    </tr>\n",
       "  </thead>\n",
       "  <tbody>\n",
       "    <tr>\n",
       "      <th>0</th>\n",
       "      <td>https://upload.wikimedia.org/wikipedia/commons...</td>\n",
       "      <td>1920 Republican National Convention [SEP]</td>\n",
       "    </tr>\n",
       "    <tr>\n",
       "      <th>1</th>\n",
       "      <td>https://upload.wikimedia.org/wikipedia/commons...</td>\n",
       "      <td>United Nations Operation in the Congo [SEP] Sw...</td>\n",
       "    </tr>\n",
       "    <tr>\n",
       "      <th>2</th>\n",
       "      <td>https://upload.wikimedia.org/wikipedia/commons...</td>\n",
       "      <td>Baskery [SEP] Baskery performing at the 2015 H...</td>\n",
       "    </tr>\n",
       "    <tr>\n",
       "      <th>3</th>\n",
       "      <td>https://upload.wikimedia.org/wikipedia/commons...</td>\n",
       "      <td>Givat Harsina [SEP] Givat Harsina in 2019</td>\n",
       "    </tr>\n",
       "    <tr>\n",
       "      <th>4</th>\n",
       "      <td>https://upload.wikimedia.org/wikipedia/commons...</td>\n",
       "      <td>Uzbekistan [SEP] The Legislative Chamber of th...</td>\n",
       "    </tr>\n",
       "  </tbody>\n",
       "</table>\n",
       "</div>"
      ],
      "text/plain": [
       "                                           image_url  \\\n",
       "0  https://upload.wikimedia.org/wikipedia/commons...   \n",
       "1  https://upload.wikimedia.org/wikipedia/commons...   \n",
       "2  https://upload.wikimedia.org/wikipedia/commons...   \n",
       "3  https://upload.wikimedia.org/wikipedia/commons...   \n",
       "4  https://upload.wikimedia.org/wikipedia/commons...   \n",
       "\n",
       "             caption_title_and_reference_description  \n",
       "0         1920 Republican National Convention [SEP]   \n",
       "1  United Nations Operation in the Congo [SEP] Sw...  \n",
       "2  Baskery [SEP] Baskery performing at the 2015 H...  \n",
       "3          Givat Harsina [SEP] Givat Harsina in 2019  \n",
       "4  Uzbekistan [SEP] The Legislative Chamber of th...  "
      ]
     },
     "execution_count": 58,
     "metadata": {},
     "output_type": "execute_result"
    }
   ],
   "source": [
    "df_2.head()"
   ]
  },
  {
   "cell_type": "code",
   "execution_count": 59,
   "id": "d211e0d4",
   "metadata": {},
   "outputs": [
    {
     "data": {
      "text/plain": [
       "(582579, 2)"
      ]
     },
     "execution_count": 59,
     "metadata": {},
     "output_type": "execute_result"
    }
   ],
   "source": [
    "df_2.shape"
   ]
  },
  {
   "cell_type": "code",
   "execution_count": null,
   "id": "bc77b83d",
   "metadata": {},
   "outputs": [],
   "source": []
  }
 ],
 "metadata": {
  "kernelspec": {
   "display_name": "Python 3 (ipykernel)",
   "language": "python",
   "name": "python3"
  },
  "language_info": {
   "codemirror_mode": {
    "name": "ipython",
    "version": 3
   },
   "file_extension": ".py",
   "mimetype": "text/x-python",
   "name": "python",
   "nbconvert_exporter": "python",
   "pygments_lexer": "ipython3",
   "version": "3.9.5"
  }
 },
 "nbformat": 4,
 "nbformat_minor": 5
}
